{
  "nbformat": 4,
  "nbformat_minor": 0,
  "metadata": {
    "colab": {
      "provenance": [],
      "authorship_tag": "ABX9TyPPKAAN3BXAaTkJlJse9XBA",
      "include_colab_link": true
    },
    "kernelspec": {
      "name": "python3",
      "display_name": "Python 3"
    },
    "language_info": {
      "name": "python"
    }
  },
  "cells": [
    {
      "cell_type": "markdown",
      "metadata": {
        "id": "view-in-github",
        "colab_type": "text"
      },
      "source": [
        "<a href=\"https://colab.research.google.com/github/omkarpattnaik8080/Python/blob/main/PythonComplete.ipynb\" target=\"_parent\"><img src=\"https://colab.research.google.com/assets/colab-badge.svg\" alt=\"Open In Colab\"/></a>"
      ]
    },
    {
      "cell_type": "markdown",
      "source": [
        "**Functions**"
      ],
      "metadata": {
        "id": "oo2Rmn-CdeLo"
      }
    },
    {
      "cell_type": "code",
      "execution_count": 4,
      "metadata": {
        "id": "5lxxWqCldTeS"
      },
      "outputs": [],
      "source": [
        "def square(number):\n",
        " #parenthesis ke andar ham jo bhi likhte hein use ham paramtres kehte hein ki aek function ko kya kya value die ja sakte hein\n",
        "  return number**2"
      ]
    },
    {
      "cell_type": "code",
      "source": [
        "result=square(4)\n",
        "print(result)#to print on the console"
      ],
      "metadata": {
        "colab": {
          "base_uri": "https://localhost:8080/"
        },
        "id": "ZVVU4fkkefEW",
        "outputId": "95fd0ee0-062a-4c5a-ff15-9000fc6fffd7"
      },
      "execution_count": 5,
      "outputs": [
        {
          "output_type": "stream",
          "name": "stdout",
          "text": [
            "16\n"
          ]
        }
      ]
    },
    {
      "cell_type": "markdown",
      "source": [
        "Function with multiple parametres"
      ],
      "metadata": {
        "id": "Q7PTihDYfEXz"
      }
    },
    {
      "cell_type": "code",
      "source": [
        "def multi(num1,num2):\n",
        "  return num1+num2"
      ],
      "metadata": {
        "id": "lxisobfpfI7o"
      },
      "execution_count": 6,
      "outputs": []
    },
    {
      "cell_type": "code",
      "source": [
        "result=multi(4,5)\n",
        "print(result)"
      ],
      "metadata": {
        "colab": {
          "base_uri": "https://localhost:8080/"
        },
        "id": "CKxJHE-qfJPZ",
        "outputId": "afc5caf1-3e58-4c10-8421-2236f69e6fd6"
      },
      "execution_count": 8,
      "outputs": [
        {
          "output_type": "stream",
          "name": "stdout",
          "text": [
            "9\n"
          ]
        }
      ]
    },
    {
      "cell_type": "markdown",
      "source": [
        "Polymorphism\n"
      ],
      "metadata": {
        "id": "qsZk-LmrgHGJ"
      }
    },
    {
      "cell_type": "code",
      "source": [
        "def multiply(p1,p2):\n",
        "  return p1*p2"
      ],
      "metadata": {
        "id": "Leq5cNqgfJXA"
      },
      "execution_count": 9,
      "outputs": []
    },
    {
      "cell_type": "code",
      "source": [
        "print(multiply(8,5))"
      ],
      "metadata": {
        "id": "e2z4nCKmfJZ8"
      },
      "execution_count": null,
      "outputs": []
    },
    {
      "cell_type": "markdown",
      "source": [
        "Create a function that returns both the area and the circumference of a circle given its radius\n"
      ],
      "metadata": {
        "id": "dtz_eeluiDuY"
      }
    },
    {
      "cell_type": "code",
      "source": [
        "import math\n",
        "def circumference(radius):\n",
        "  return math.pi*radius**2\n",
        "  print(\"hi\")"
      ],
      "metadata": {
        "id": "ZMmv1UCmfJcZ"
      },
      "execution_count": 10,
      "outputs": []
    },
    {
      "cell_type": "code",
      "source": [
        "print(circumference(2))"
      ],
      "metadata": {
        "colab": {
          "base_uri": "https://localhost:8080/"
        },
        "id": "NH7mJeBEikDR",
        "outputId": "f5572bf3-d6b4-4c63-b658-f600138fa6b7"
      },
      "execution_count": 11,
      "outputs": [
        {
          "output_type": "stream",
          "name": "stdout",
          "text": [
            "12.566370614359172\n"
          ]
        }
      ]
    },
    {
      "cell_type": "markdown",
      "source": [
        "OOPS"
      ],
      "metadata": {
        "id": "qEyNf3jYjDk_"
      }
    },
    {
      "cell_type": "markdown",
      "source": [
        "BASIC CLASS AND OBJECT"
      ],
      "metadata": {
        "id": "40O5pFiujmt1"
      }
    },
    {
      "cell_type": "code",
      "source": [
        "class Car:\n",
        "  def __init__(self,userbrand,usermodel): #isko likhne se ham object ke andar parameter pass kar sakte hein\n",
        "       self.brand=userbrand\n",
        "       self.model=usermodel\n",
        "\n"
      ],
      "metadata": {
        "id": "ZFDhTAXmjFyL"
      },
      "execution_count": 19,
      "outputs": []
    },
    {
      "cell_type": "code",
      "source": [
        "my_car=Car(\"Toyota\",\"Corolla\") #object inside class\n",
        "print(my_car.brand)"
      ],
      "metadata": {
        "colab": {
          "base_uri": "https://localhost:8080/"
        },
        "id": "ck1tFDwVjF_q",
        "outputId": "4e5e562a-0a8b-4af6-bce1-e3ef752f5f8c"
      },
      "execution_count": 20,
      "outputs": [
        {
          "output_type": "stream",
          "name": "stdout",
          "text": [
            "Toyota\n"
          ]
        }
      ]
    },
    {
      "cell_type": "code",
      "source": [],
      "metadata": {
        "id": "d-dDlDX-jGFi"
      },
      "execution_count": null,
      "outputs": []
    },
    {
      "cell_type": "code",
      "source": [],
      "metadata": {
        "id": "p43ixnkcjGIg"
      },
      "execution_count": null,
      "outputs": []
    },
    {
      "cell_type": "code",
      "source": [],
      "metadata": {
        "id": "5pQPDdyqjGLZ"
      },
      "execution_count": null,
      "outputs": []
    },
    {
      "cell_type": "code",
      "source": [],
      "metadata": {
        "id": "CIuzaL7pjGOe"
      },
      "execution_count": null,
      "outputs": []
    },
    {
      "cell_type": "code",
      "source": [],
      "metadata": {
        "id": "38R1San8jGRR"
      },
      "execution_count": null,
      "outputs": []
    },
    {
      "cell_type": "code",
      "source": [],
      "metadata": {
        "id": "EhmeEs87jGUS"
      },
      "execution_count": null,
      "outputs": []
    }
  ]
}