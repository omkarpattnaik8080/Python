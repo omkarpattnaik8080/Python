{
  "nbformat": 4,
  "nbformat_minor": 0,
  "metadata": {
    "colab": {
      "provenance": [],
      "authorship_tag": "ABX9TyM98pEf+sh7Zg/ee4RTVE0e",
      "include_colab_link": true
    },
    "kernelspec": {
      "name": "python3",
      "display_name": "Python 3"
    },
    "language_info": {
      "name": "python"
    }
  },
  "cells": [
    {
      "cell_type": "markdown",
      "metadata": {
        "id": "view-in-github",
        "colab_type": "text"
      },
      "source": [
        "<a href=\"https://colab.research.google.com/github/omkarpattnaik8080/Python/blob/main/PythonRevision.ipynb\" target=\"_parent\"><img src=\"https://colab.research.google.com/assets/colab-badge.svg\" alt=\"Open In Colab\"/></a>"
      ]
    },
    {
      "cell_type": "code",
      "execution_count": null,
      "metadata": {
        "colab": {
          "base_uri": "https://localhost:8080/",
          "height": 35
        },
        "id": "6hjFbQWUxcUv",
        "outputId": "1318148f-fabd-437a-9fd5-669b413b30be"
      },
      "outputs": [
        {
          "output_type": "execute_result",
          "data": {
            "text/plain": [
              "'hello!!'"
            ],
            "application/vnd.google.colaboratory.intrinsic+json": {
              "type": "string"
            }
          },
          "metadata": {},
          "execution_count": 1
        }
      ],
      "source": [
        "#concatenation using \"+\"\n",
        "print(\"hello\"+\"!!\")"
      ]
    },
    {
      "cell_type": "code",
      "source": [
        "print(\"how\" + \"are\" + \"you\")"
      ],
      "metadata": {
        "colab": {
          "base_uri": "https://localhost:8080/"
        },
        "id": "_qht6FbPEPJt",
        "outputId": "fa3acc02-6b1a-4b6f-b905-756de5492fd7"
      },
      "execution_count": null,
      "outputs": [
        {
          "output_type": "stream",
          "name": "stdout",
          "text": [
            "howareyou\n"
          ]
        }
      ]
    },
    {
      "cell_type": "code",
      "source": [
        "#repeatation of the string\n",
        "print(\"hello\"*5)"
      ],
      "metadata": {
        "colab": {
          "base_uri": "https://localhost:8080/"
        },
        "id": "iBBVkCENEmTv",
        "outputId": "81008dc5-7412-45dd-db4b-78eb05864be8"
      },
      "execution_count": null,
      "outputs": [
        {
          "output_type": "stream",
          "name": "stdout",
          "text": [
            "hellohellohellohellohello\n"
          ]
        }
      ]
    },
    {
      "cell_type": "code",
      "source": [
        "#variables\n",
        "english=95\n",
        "print(english)"
      ],
      "metadata": {
        "colab": {
          "base_uri": "https://localhost:8080/"
        },
        "id": "SBUxCj0YINNn",
        "outputId": "4ce24c59-f6b6-45e0-b9d9-68752ce1aebe"
      },
      "execution_count": null,
      "outputs": [
        {
          "output_type": "stream",
          "name": "stdout",
          "text": [
            "95\n"
          ]
        }
      ]
    },
    {
      "cell_type": "code",
      "source": [
        "age=34\n",
        "Age=24\n",
        "print(age)\n",
        "print(Age)"
      ],
      "metadata": {
        "colab": {
          "base_uri": "https://localhost:8080/"
        },
        "id": "tsFPlSMpIpPw",
        "outputId": "175a7ecb-3d48-4960-c022-e7664a7e616a"
      },
      "execution_count": null,
      "outputs": [
        {
          "output_type": "stream",
          "name": "stdout",
          "text": [
            "34\n",
            "24\n"
          ]
        }
      ]
    },
    {
      "cell_type": "code",
      "source": [
        "name=input(\"enter a name\")"
      ],
      "metadata": {
        "colab": {
          "base_uri": "https://localhost:8080/"
        },
        "id": "9gWuFlvsToSN",
        "outputId": "8570d329-184f-4f45-da76-f670d9a50bcf"
      },
      "execution_count": null,
      "outputs": [
        {
          "name": "stdout",
          "output_type": "stream",
          "text": [
            "enter a nameomkar\n"
          ]
        }
      ]
    },
    {
      "cell_type": "code",
      "source": [
        "eval()"
      ],
      "metadata": {
        "id": "SnrN9f-kT-RH"
      },
      "execution_count": null,
      "outputs": []
    },
    {
      "cell_type": "code",
      "source": [
        "print(2,567,234)"
      ],
      "metadata": {
        "colab": {
          "base_uri": "https://localhost:8080/"
        },
        "id": "Mlk5A81ztLlz",
        "outputId": "d01bb7f4-01fb-4e5c-b091-7d5db25825e0"
      },
      "execution_count": null,
      "outputs": [
        {
          "output_type": "stream",
          "name": "stdout",
          "text": [
            "2 567 234\n"
          ]
        }
      ]
    },
    {
      "cell_type": "code",
      "source": [
        "#escape sequence\n",
        "print(\"hello\",\"\\n 2+2=\",2+2)"
      ],
      "metadata": {
        "colab": {
          "base_uri": "https://localhost:8080/"
        },
        "id": "s7H_rjK_tqQc",
        "outputId": "99b434a7-c620-4765-ee18-ffe610bdf790"
      },
      "execution_count": null,
      "outputs": [
        {
          "output_type": "stream",
          "name": "stdout",
          "text": [
            "hello \n",
            " 2+2= 4\n"
          ]
        }
      ]
    },
    {
      "cell_type": "code",
      "source": [
        "print(type(12))"
      ],
      "metadata": {
        "colab": {
          "base_uri": "https://localhost:8080/"
        },
        "id": "q8GK97uMtqYh",
        "outputId": "c5913e63-2fd1-49d6-f51a-4bafadb4fd04"
      },
      "execution_count": null,
      "outputs": [
        {
          "output_type": "stream",
          "name": "stdout",
          "text": [
            "<class 'int'>\n"
          ]
        }
      ]
    },
    {
      "cell_type": "code",
      "source": [
        "str(123)"
      ],
      "metadata": {
        "colab": {
          "base_uri": "https://localhost:8080/",
          "height": 35
        },
        "id": "oNGkFy-itqbe",
        "outputId": "fcbd2fc2-4b4a-4e2c-98aa-17fa78e30d1f"
      },
      "execution_count": null,
      "outputs": [
        {
          "output_type": "execute_result",
          "data": {
            "text/plain": [
              "'123'"
            ],
            "application/vnd.google.colaboratory.intrinsic+json": {
              "type": "string"
            }
          },
          "metadata": {},
          "execution_count": 16
        }
      ]
    },
    {
      "cell_type": "code",
      "source": [
        "float(123)"
      ],
      "metadata": {
        "colab": {
          "base_uri": "https://localhost:8080/"
        },
        "id": "ZwOwQbMctqeK",
        "outputId": "84ba5380-3537-42c4-ac67-c377f4d72392"
      },
      "execution_count": null,
      "outputs": [
        {
          "output_type": "execute_result",
          "data": {
            "text/plain": [
              "123.0"
            ]
          },
          "metadata": {},
          "execution_count": 17
        }
      ]
    },
    {
      "cell_type": "code",
      "source": [
        "int(123.0)"
      ],
      "metadata": {
        "colab": {
          "base_uri": "https://localhost:8080/"
        },
        "id": "UGmVBDFAtqgq",
        "outputId": "3382c711-981a-45e9-e0fa-0f1a90963e46"
      },
      "execution_count": null,
      "outputs": [
        {
          "output_type": "execute_result",
          "data": {
            "text/plain": [
              "123"
            ]
          },
          "metadata": {},
          "execution_count": 18
        }
      ]
    },
    {
      "cell_type": "code",
      "source": [
        "#max and min values\n",
        "max(24,34,54)"
      ],
      "metadata": {
        "id": "0ge9a5Mptqjc",
        "colab": {
          "base_uri": "https://localhost:8080/"
        },
        "outputId": "b5eb0ec7-1393-408b-d758-25719f569131"
      },
      "execution_count": 1,
      "outputs": [
        {
          "output_type": "execute_result",
          "data": {
            "text/plain": [
              "54"
            ]
          },
          "metadata": {},
          "execution_count": 1
        }
      ]
    },
    {
      "cell_type": "code",
      "source": [
        "min(2,3,4)"
      ],
      "metadata": {
        "id": "IAAdLRtEtqmD",
        "colab": {
          "base_uri": "https://localhost:8080/"
        },
        "outputId": "dffd68c0-cd86-41ab-910a-4e781dd92044"
      },
      "execution_count": 2,
      "outputs": [
        {
          "output_type": "execute_result",
          "data": {
            "text/plain": [
              "2"
            ]
          },
          "metadata": {},
          "execution_count": 2
        }
      ]
    },
    {
      "cell_type": "code",
      "source": [
        "max('hello', 'how', 'are', 'you')\n"
      ],
      "metadata": {
        "id": "U2_UiEp-tqpE",
        "colab": {
          "base_uri": "https://localhost:8080/",
          "height": 35
        },
        "outputId": "8df8180f-004c-4ccd-c548-5cfa613a60aa"
      },
      "execution_count": 3,
      "outputs": [
        {
          "output_type": "execute_result",
          "data": {
            "text/plain": [
              "'you'"
            ],
            "application/vnd.google.colaboratory.intrinsic+json": {
              "type": "string"
            }
          },
          "metadata": {},
          "execution_count": 3
        }
      ]
    },
    {
      "cell_type": "code",
      "source": [
        "import math\n",
        "math.ceil(3.4)\n",
        "math.floor(7.2)"
      ],
      "metadata": {
        "id": "76JzzSLrtque",
        "colab": {
          "base_uri": "https://localhost:8080/"
        },
        "outputId": "5fb894f7-4558-4619-f411-388b97b24d13"
      },
      "execution_count": 6,
      "outputs": [
        {
          "output_type": "execute_result",
          "data": {
            "text/plain": [
              "7"
            ]
          },
          "metadata": {},
          "execution_count": 6
        }
      ]
    },
    {
      "cell_type": "code",
      "source": [
        "#print a rectangle\n",
        "print(\"******\")\n",
        "print(\"*    *\")\n",
        "print(\"*    *\")\n",
        "print(\"******\")\n"
      ],
      "metadata": {
        "id": "DNAUJVVJtqxV",
        "colab": {
          "base_uri": "https://localhost:8080/"
        },
        "outputId": "4fbb41ae-85c6-4e2f-c2d9-382f60869617"
      },
      "execution_count": 8,
      "outputs": [
        {
          "output_type": "stream",
          "name": "stdout",
          "text": [
            "******\n",
            "*    *\n",
            "*    *\n",
            "******\n"
          ]
        }
      ]
    },
    {
      "cell_type": "code",
      "source": [
        "#FUNCTIONS:-"
      ],
      "metadata": {
        "id": "lufqVgZYtq0S"
      },
      "execution_count": 9,
      "outputs": []
    },
    {
      "cell_type": "code",
      "source": [
        "#AREA OF A RECTANGLE\n",
        "def arearec(length,breadth):\n",
        "  area=length*breadth\n",
        "  return area"
      ],
      "metadata": {
        "id": "8OVZP1M8tq3K"
      },
      "execution_count": 10,
      "outputs": []
    },
    {
      "cell_type": "code",
      "source": [
        "arearec(5,6)"
      ],
      "metadata": {
        "id": "CJZ49dWatq6B",
        "colab": {
          "base_uri": "https://localhost:8080/"
        },
        "outputId": "4f17bfa8-2070-46ee-a08c-21a91b45f517"
      },
      "execution_count": 11,
      "outputs": [
        {
          "output_type": "execute_result",
          "data": {
            "text/plain": [
              "30"
            ]
          },
          "metadata": {},
          "execution_count": 11
        }
      ]
    },
    {
      "cell_type": "code",
      "source": [
        "#PASSING ON DEFAULT VALUES:-\n",
        "def areaRectangle(length,breadth=1):\n",
        "  area=length*breadth\n",
        "  return area"
      ],
      "metadata": {
        "id": "1jSD0OY5tq89"
      },
      "execution_count": 12,
      "outputs": []
    },
    {
      "cell_type": "code",
      "source": [
        "areaRectangle(3)"
      ],
      "metadata": {
        "id": "TiZLe4nMtrAH",
        "colab": {
          "base_uri": "https://localhost:8080/"
        },
        "outputId": "3a2fc2f1-9ae2-46c2-e3e8-d35c421059e2"
      },
      "execution_count": 13,
      "outputs": [
        {
          "output_type": "execute_result",
          "data": {
            "text/plain": [
              "3"
            ]
          },
          "metadata": {},
          "execution_count": 13
        }
      ]
    },
    {
      "cell_type": "code",
      "source": [
        "#ADD NUMBERS\n",
        "def numbers(a=3,b=4,c=5):\n",
        "  add=a+b+c\n",
        "  return add"
      ],
      "metadata": {
        "id": "iVxpwKdPtrDE"
      },
      "execution_count": 14,
      "outputs": []
    },
    {
      "cell_type": "code",
      "source": [
        "numbers()"
      ],
      "metadata": {
        "id": "ygbYlwLqtrF9",
        "colab": {
          "base_uri": "https://localhost:8080/"
        },
        "outputId": "a4d657dd-5d0a-4567-b4f6-a36c451d3136"
      },
      "execution_count": 15,
      "outputs": [
        {
          "output_type": "execute_result",
          "data": {
            "text/plain": [
              "12"
            ]
          },
          "metadata": {},
          "execution_count": 15
        }
      ]
    },
    {
      "cell_type": "code",
      "source": [],
      "metadata": {
        "id": "8rzzwO3otrJL"
      },
      "execution_count": null,
      "outputs": []
    },
    {
      "cell_type": "code",
      "source": [],
      "metadata": {
        "id": "ku_bEFuutrMc"
      },
      "execution_count": null,
      "outputs": []
    },
    {
      "cell_type": "code",
      "source": [],
      "metadata": {
        "id": "nwCngvJntrPU"
      },
      "execution_count": null,
      "outputs": []
    },
    {
      "cell_type": "code",
      "source": [],
      "metadata": {
        "id": "f8b6b3UbtrSP"
      },
      "execution_count": null,
      "outputs": []
    },
    {
      "cell_type": "code",
      "source": [],
      "metadata": {
        "id": "YLeRwtIrtrVL"
      },
      "execution_count": null,
      "outputs": []
    },
    {
      "cell_type": "code",
      "source": [],
      "metadata": {
        "id": "RG1Hwm_MtrYl"
      },
      "execution_count": null,
      "outputs": []
    },
    {
      "cell_type": "code",
      "source": [],
      "metadata": {
        "id": "Y-BRjSmGtrb3"
      },
      "execution_count": null,
      "outputs": []
    },
    {
      "cell_type": "code",
      "source": [],
      "metadata": {
        "id": "hNKWp_sktrev"
      },
      "execution_count": null,
      "outputs": []
    },
    {
      "cell_type": "code",
      "source": [],
      "metadata": {
        "id": "3F8JHP5ttrhk"
      },
      "execution_count": null,
      "outputs": []
    },
    {
      "cell_type": "code",
      "source": [],
      "metadata": {
        "id": "c0SGRJWqtrkG"
      },
      "execution_count": null,
      "outputs": []
    }
  ]
}