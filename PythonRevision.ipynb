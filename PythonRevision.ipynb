{
  "nbformat": 4,
  "nbformat_minor": 0,
  "metadata": {
    "colab": {
      "provenance": [],
      "authorship_tag": "ABX9TyP4F34L3Vx6att5SPgOwk6e",
      "include_colab_link": true
    },
    "kernelspec": {
      "name": "python3",
      "display_name": "Python 3"
    },
    "language_info": {
      "name": "python"
    }
  },
  "cells": [
    {
      "cell_type": "markdown",
      "metadata": {
        "id": "view-in-github",
        "colab_type": "text"
      },
      "source": [
        "<a href=\"https://colab.research.google.com/github/omkarpattnaik8080/Python/blob/main/PythonRevision.ipynb\" target=\"_parent\"><img src=\"https://colab.research.google.com/assets/colab-badge.svg\" alt=\"Open In Colab\"/></a>"
      ]
    },
    {
      "cell_type": "code",
      "execution_count": null,
      "metadata": {
        "colab": {
          "base_uri": "https://localhost:8080/",
          "height": 35
        },
        "id": "6hjFbQWUxcUv",
        "outputId": "1318148f-fabd-437a-9fd5-669b413b30be"
      },
      "outputs": [
        {
          "output_type": "execute_result",
          "data": {
            "text/plain": [
              "'hello!!'"
            ],
            "application/vnd.google.colaboratory.intrinsic+json": {
              "type": "string"
            }
          },
          "metadata": {},
          "execution_count": 1
        }
      ],
      "source": [
        "#concatenation using \"+\"\n",
        "print(\"hello\"+\"!!\")"
      ]
    },
    {
      "cell_type": "code",
      "source": [
        "print(\"how\" + \"are\" + \"you\")"
      ],
      "metadata": {
        "colab": {
          "base_uri": "https://localhost:8080/"
        },
        "id": "_qht6FbPEPJt",
        "outputId": "fa3acc02-6b1a-4b6f-b905-756de5492fd7"
      },
      "execution_count": null,
      "outputs": [
        {
          "output_type": "stream",
          "name": "stdout",
          "text": [
            "howareyou\n"
          ]
        }
      ]
    },
    {
      "cell_type": "code",
      "source": [
        "#repeatation of the string\n",
        "print(\"hello\"*5)"
      ],
      "metadata": {
        "colab": {
          "base_uri": "https://localhost:8080/"
        },
        "id": "iBBVkCENEmTv",
        "outputId": "81008dc5-7412-45dd-db4b-78eb05864be8"
      },
      "execution_count": null,
      "outputs": [
        {
          "output_type": "stream",
          "name": "stdout",
          "text": [
            "hellohellohellohellohello\n"
          ]
        }
      ]
    },
    {
      "cell_type": "code",
      "source": [
        "#variables\n",
        "english=95\n",
        "print(english)"
      ],
      "metadata": {
        "colab": {
          "base_uri": "https://localhost:8080/"
        },
        "id": "SBUxCj0YINNn",
        "outputId": "4ce24c59-f6b6-45e0-b9d9-68752ce1aebe"
      },
      "execution_count": null,
      "outputs": [
        {
          "output_type": "stream",
          "name": "stdout",
          "text": [
            "95\n"
          ]
        }
      ]
    },
    {
      "cell_type": "code",
      "source": [
        "age=34\n",
        "Age=24\n",
        "print(age)\n",
        "print(Age)"
      ],
      "metadata": {
        "colab": {
          "base_uri": "https://localhost:8080/"
        },
        "id": "tsFPlSMpIpPw",
        "outputId": "175a7ecb-3d48-4960-c022-e7664a7e616a"
      },
      "execution_count": null,
      "outputs": [
        {
          "output_type": "stream",
          "name": "stdout",
          "text": [
            "34\n",
            "24\n"
          ]
        }
      ]
    },
    {
      "cell_type": "code",
      "source": [
        "name=input(\"enter a name\")"
      ],
      "metadata": {
        "colab": {
          "base_uri": "https://localhost:8080/"
        },
        "id": "9gWuFlvsToSN",
        "outputId": "8570d329-184f-4f45-da76-f670d9a50bcf"
      },
      "execution_count": null,
      "outputs": [
        {
          "name": "stdout",
          "output_type": "stream",
          "text": [
            "enter a nameomkar\n"
          ]
        }
      ]
    },
    {
      "cell_type": "code",
      "source": [
        "eval()"
      ],
      "metadata": {
        "id": "SnrN9f-kT-RH"
      },
      "execution_count": null,
      "outputs": []
    },
    {
      "cell_type": "code",
      "source": [
        "print(2,567,234)"
      ],
      "metadata": {
        "colab": {
          "base_uri": "https://localhost:8080/"
        },
        "id": "Mlk5A81ztLlz",
        "outputId": "d01bb7f4-01fb-4e5c-b091-7d5db25825e0"
      },
      "execution_count": null,
      "outputs": [
        {
          "output_type": "stream",
          "name": "stdout",
          "text": [
            "2 567 234\n"
          ]
        }
      ]
    },
    {
      "cell_type": "code",
      "source": [
        "#escape sequence\n",
        "print(\"hello\",\"\\n 2+2=\",2+2)"
      ],
      "metadata": {
        "colab": {
          "base_uri": "https://localhost:8080/"
        },
        "id": "s7H_rjK_tqQc",
        "outputId": "99b434a7-c620-4765-ee18-ffe610bdf790"
      },
      "execution_count": null,
      "outputs": [
        {
          "output_type": "stream",
          "name": "stdout",
          "text": [
            "hello \n",
            " 2+2= 4\n"
          ]
        }
      ]
    },
    {
      "cell_type": "code",
      "source": [
        "print(type(12))"
      ],
      "metadata": {
        "colab": {
          "base_uri": "https://localhost:8080/"
        },
        "id": "q8GK97uMtqYh",
        "outputId": "c5913e63-2fd1-49d6-f51a-4bafadb4fd04"
      },
      "execution_count": null,
      "outputs": [
        {
          "output_type": "stream",
          "name": "stdout",
          "text": [
            "<class 'int'>\n"
          ]
        }
      ]
    },
    {
      "cell_type": "code",
      "source": [
        "str(123)"
      ],
      "metadata": {
        "colab": {
          "base_uri": "https://localhost:8080/",
          "height": 35
        },
        "id": "oNGkFy-itqbe",
        "outputId": "fcbd2fc2-4b4a-4e2c-98aa-17fa78e30d1f"
      },
      "execution_count": null,
      "outputs": [
        {
          "output_type": "execute_result",
          "data": {
            "text/plain": [
              "'123'"
            ],
            "application/vnd.google.colaboratory.intrinsic+json": {
              "type": "string"
            }
          },
          "metadata": {},
          "execution_count": 16
        }
      ]
    },
    {
      "cell_type": "code",
      "source": [
        "float(123)"
      ],
      "metadata": {
        "colab": {
          "base_uri": "https://localhost:8080/"
        },
        "id": "ZwOwQbMctqeK",
        "outputId": "84ba5380-3537-42c4-ac67-c377f4d72392"
      },
      "execution_count": null,
      "outputs": [
        {
          "output_type": "execute_result",
          "data": {
            "text/plain": [
              "123.0"
            ]
          },
          "metadata": {},
          "execution_count": 17
        }
      ]
    },
    {
      "cell_type": "code",
      "source": [
        "int(123.0)"
      ],
      "metadata": {
        "colab": {
          "base_uri": "https://localhost:8080/"
        },
        "id": "UGmVBDFAtqgq",
        "outputId": "3382c711-981a-45e9-e0fa-0f1a90963e46"
      },
      "execution_count": null,
      "outputs": [
        {
          "output_type": "execute_result",
          "data": {
            "text/plain": [
              "123"
            ]
          },
          "metadata": {},
          "execution_count": 18
        }
      ]
    },
    {
      "cell_type": "code",
      "source": [
        "#max and min values\n",
        "max(24,34,54)"
      ],
      "metadata": {
        "id": "0ge9a5Mptqjc",
        "colab": {
          "base_uri": "https://localhost:8080/"
        },
        "outputId": "b5eb0ec7-1393-408b-d758-25719f569131"
      },
      "execution_count": null,
      "outputs": [
        {
          "output_type": "execute_result",
          "data": {
            "text/plain": [
              "54"
            ]
          },
          "metadata": {},
          "execution_count": 1
        }
      ]
    },
    {
      "cell_type": "code",
      "source": [
        "min(2,3,4)"
      ],
      "metadata": {
        "id": "IAAdLRtEtqmD",
        "colab": {
          "base_uri": "https://localhost:8080/"
        },
        "outputId": "dffd68c0-cd86-41ab-910a-4e781dd92044"
      },
      "execution_count": null,
      "outputs": [
        {
          "output_type": "execute_result",
          "data": {
            "text/plain": [
              "2"
            ]
          },
          "metadata": {},
          "execution_count": 2
        }
      ]
    },
    {
      "cell_type": "code",
      "source": [
        "max('hello', 'how', 'are', 'you')\n"
      ],
      "metadata": {
        "id": "U2_UiEp-tqpE",
        "colab": {
          "base_uri": "https://localhost:8080/",
          "height": 35
        },
        "outputId": "8df8180f-004c-4ccd-c548-5cfa613a60aa"
      },
      "execution_count": null,
      "outputs": [
        {
          "output_type": "execute_result",
          "data": {
            "text/plain": [
              "'you'"
            ],
            "application/vnd.google.colaboratory.intrinsic+json": {
              "type": "string"
            }
          },
          "metadata": {},
          "execution_count": 3
        }
      ]
    },
    {
      "cell_type": "code",
      "source": [
        "import math\n",
        "math.ceil(3.4)\n",
        "math.floor(7.2)"
      ],
      "metadata": {
        "id": "76JzzSLrtque",
        "colab": {
          "base_uri": "https://localhost:8080/"
        },
        "outputId": "5fb894f7-4558-4619-f411-388b97b24d13"
      },
      "execution_count": null,
      "outputs": [
        {
          "output_type": "execute_result",
          "data": {
            "text/plain": [
              "7"
            ]
          },
          "metadata": {},
          "execution_count": 6
        }
      ]
    },
    {
      "cell_type": "code",
      "source": [
        "#print a rectangle\n",
        "print(\"******\")\n",
        "print(\"*    *\")\n",
        "print(\"*    *\")\n",
        "print(\"******\")\n"
      ],
      "metadata": {
        "id": "DNAUJVVJtqxV",
        "colab": {
          "base_uri": "https://localhost:8080/"
        },
        "outputId": "4fbb41ae-85c6-4e2f-c2d9-382f60869617"
      },
      "execution_count": null,
      "outputs": [
        {
          "output_type": "stream",
          "name": "stdout",
          "text": [
            "******\n",
            "*    *\n",
            "*    *\n",
            "******\n"
          ]
        }
      ]
    },
    {
      "cell_type": "code",
      "source": [
        "#FUNCTIONS:-"
      ],
      "metadata": {
        "id": "lufqVgZYtq0S"
      },
      "execution_count": null,
      "outputs": []
    },
    {
      "cell_type": "code",
      "source": [
        "#AREA OF A RECTANGLE\n",
        "def arearec(length,breadth):\n",
        "  area=length*breadth\n",
        "  return area"
      ],
      "metadata": {
        "id": "8OVZP1M8tq3K"
      },
      "execution_count": null,
      "outputs": []
    },
    {
      "cell_type": "code",
      "source": [
        "arearec(5,6)"
      ],
      "metadata": {
        "id": "CJZ49dWatq6B",
        "colab": {
          "base_uri": "https://localhost:8080/"
        },
        "outputId": "4f17bfa8-2070-46ee-a08c-21a91b45f517"
      },
      "execution_count": null,
      "outputs": [
        {
          "output_type": "execute_result",
          "data": {
            "text/plain": [
              "30"
            ]
          },
          "metadata": {},
          "execution_count": 11
        }
      ]
    },
    {
      "cell_type": "code",
      "source": [
        "#PASSING ON DEFAULT VALUES:-\n",
        "def areaRectangle(length,breadth=1):\n",
        "  area=length*breadth\n",
        "  return area"
      ],
      "metadata": {
        "id": "1jSD0OY5tq89"
      },
      "execution_count": null,
      "outputs": []
    },
    {
      "cell_type": "code",
      "source": [
        "areaRectangle(3)"
      ],
      "metadata": {
        "id": "TiZLe4nMtrAH",
        "colab": {
          "base_uri": "https://localhost:8080/"
        },
        "outputId": "3a2fc2f1-9ae2-46c2-e3e8-d35c421059e2"
      },
      "execution_count": null,
      "outputs": [
        {
          "output_type": "execute_result",
          "data": {
            "text/plain": [
              "3"
            ]
          },
          "metadata": {},
          "execution_count": 13
        }
      ]
    },
    {
      "cell_type": "code",
      "source": [
        "#ADD NUMBERS\n",
        "def numbers(a=3,b=4,c=5):\n",
        "  add=a+b+c\n",
        "  return add"
      ],
      "metadata": {
        "id": "iVxpwKdPtrDE"
      },
      "execution_count": null,
      "outputs": []
    },
    {
      "cell_type": "code",
      "source": [
        "numbers()"
      ],
      "metadata": {
        "id": "ygbYlwLqtrF9",
        "colab": {
          "base_uri": "https://localhost:8080/"
        },
        "outputId": "508148cc-a622-4071-8cf8-ed3674ee222e"
      },
      "execution_count": null,
      "outputs": [
        {
          "output_type": "execute_result",
          "data": {
            "text/plain": [
              "12"
            ]
          },
          "metadata": {},
          "execution_count": 19
        }
      ]
    },
    {
      "cell_type": "code",
      "source": [
        "#authentication of user password\n",
        "def passwordd(password):\n",
        "   if password==\"magic\":\n",
        "    message=\"you have succesfully logged in\"\n",
        "   if password!=\"magic\":\n",
        "    message=\"hat chutiye\"\n",
        "    return message"
      ],
      "metadata": {
        "id": "ku_bEFuutrMc"
      },
      "execution_count": null,
      "outputs": []
    },
    {
      "cell_type": "code",
      "source": [
        "#sum of first n natural numbers\n",
        "def summation(n):\n",
        "  total+=0\n",
        "  for count in range(1,n+1):\n",
        "    total += count\n",
        "  return total\n",
        "def main():\n",
        "  n=int(input(\"enter a number\"))\n",
        "  total=summation(n)\n",
        "  print(total)"
      ],
      "metadata": {
        "id": "YLeRwtIrtrVL"
      },
      "execution_count": null,
      "outputs": []
    },
    {
      "cell_type": "code",
      "source": [
        "# Step 1: Define a function for summation\n",
        "def calculate_sum(numbers):\n",
        "    # Step 2: Initialize a variable to store the sum\n",
        "    sum_result = 0\n",
        "\n",
        "    # Step 3: Use a for loop to iterate through each number in the list\n",
        "    for num in numbers:\n",
        "        # Step 4: Add the current number to the sum\n",
        "        sum_result += num\n",
        "\n",
        "    # Step 5: Return the final sum\n",
        "    return sum_result\n",
        "\n",
        "# Step 6: Initialize a list of numbers\n",
        "numbers_list = [1, 2, 3, 4, 5]\n",
        "\n",
        "# Step 7: Call the function and store the result\n",
        "result = calculate_sum(numbers_list)\n",
        "\n",
        "# Step 8: Print the result\n",
        "print(\"Sum of numbers:\", result)\n"
      ],
      "metadata": {
        "id": "3F8JHP5ttrhk",
        "colab": {
          "base_uri": "https://localhost:8080/"
        },
        "outputId": "af740d0d-0092-4c73-fc07-20722ed44d6f"
      },
      "execution_count": null,
      "outputs": [
        {
          "output_type": "stream",
          "name": "stdout",
          "text": [
            "Sum of numbers: 15\n"
          ]
        }
      ]
    },
    {
      "cell_type": "code",
      "source": [
        "#practice\n",
        "def summationlist(numbers):\n",
        "  sum=0\n",
        "  for num in numbers:\n",
        "    sum+=num\n",
        "  return sum\n",
        "#driver code\n",
        "list=[1,2,3,4,5,6]\n",
        "result=summationlist(list)\n",
        "print(result)"
      ],
      "metadata": {
        "id": "c0SGRJWqtrkG",
        "colab": {
          "base_uri": "https://localhost:8080/"
        },
        "outputId": "1cdefc76-12e9-407c-faaf-a3604053fa29"
      },
      "execution_count": null,
      "outputs": [
        {
          "output_type": "stream",
          "name": "stdout",
          "text": [
            "21\n"
          ]
        }
      ]
    },
    {
      "cell_type": "code",
      "source": [
        "#SCOPE\n",
        "a=4\n",
        "def f():\n",
        "  print(\"global a:\",a)\n",
        "f()"
      ],
      "metadata": {
        "colab": {
          "base_uri": "https://localhost:8080/"
        },
        "id": "m7VUu7I3ZDyU",
        "outputId": "f4994858-1119-4864-ccc6-b51fd0ef982b"
      },
      "execution_count": null,
      "outputs": [
        {
          "output_type": "stream",
          "name": "stdout",
          "text": [
            "global a: 4\n"
          ]
        }
      ]
    },
    {
      "cell_type": "code",
      "source": [
        "a=4.2\n",
        "def f():\n",
        "  a=5\n",
        "  print(\"local:\",a)\n",
        "f()\n",
        "print(\"global:\",a)"
      ],
      "metadata": {
        "colab": {
          "base_uri": "https://localhost:8080/"
        },
        "id": "TWrWfXMWZwEc",
        "outputId": "3617774a-7118-456b-c1b7-719bafb177e4"
      },
      "execution_count": null,
      "outputs": [
        {
          "output_type": "stream",
          "name": "stdout",
          "text": [
            "local: 5\n",
            "global: 4.2\n"
          ]
        }
      ]
    },
    {
      "cell_type": "code",
      "source": [
        "a=6\n",
        "def f():\n",
        "  a=5\n",
        "  def g():\n",
        "    b=a\n",
        "    print(\"inside fn g,b:\",b)\n",
        "  g()\n",
        "f()"
      ],
      "metadata": {
        "colab": {
          "base_uri": "https://localhost:8080/"
        },
        "id": "H1TyEbhQaYq0",
        "outputId": "0fc80fb5-133a-4db8-c9bf-79e5ddf68443"
      },
      "execution_count": null,
      "outputs": [
        {
          "output_type": "stream",
          "name": "stdout",
          "text": [
            "inside fn g,b: 5\n"
          ]
        }
      ]
    },
    {
      "cell_type": "code",
      "source": [
        "#accesing characters of a string:-\n",
        "message=\"omkar\"\n",
        "message[4]"
      ],
      "metadata": {
        "colab": {
          "base_uri": "https://localhost:8080/",
          "height": 35
        },
        "id": "qXGbbICFg2xD",
        "outputId": "9586b439-bed8-4790-d066-19ad77e0a084"
      },
      "execution_count": null,
      "outputs": [
        {
          "output_type": "execute_result",
          "data": {
            "text/plain": [
              "'r'"
            ],
            "application/vnd.google.colaboratory.intrinsic+json": {
              "type": "string"
            }
          },
          "metadata": {},
          "execution_count": 47
        }
      ]
    },
    {
      "cell_type": "code",
      "source": [
        "index=len(message)-1"
      ],
      "metadata": {
        "id": "9sUPWH_Lj2kG"
      },
      "execution_count": null,
      "outputs": []
    },
    {
      "cell_type": "code",
      "source": [
        "print(index)"
      ],
      "metadata": {
        "colab": {
          "base_uri": "https://localhost:8080/"
        },
        "id": "32T2pu0lj2nS",
        "outputId": "3e028be4-fb92-4f56-ecd8-37b736046b32"
      },
      "execution_count": null,
      "outputs": [
        {
          "output_type": "stream",
          "name": "stdout",
          "text": [
            "4\n"
          ]
        }
      ]
    },
    {
      "cell_type": "code",
      "source": [
        "message[-1]"
      ],
      "metadata": {
        "colab": {
          "base_uri": "https://localhost:8080/",
          "height": 35
        },
        "id": "vf_eYTwij2qQ",
        "outputId": "8233fb27-4ef2-4664-c039-a653ab2eb224"
      },
      "execution_count": null,
      "outputs": [
        {
          "output_type": "execute_result",
          "data": {
            "text/plain": [
              "'r'"
            ],
            "application/vnd.google.colaboratory.intrinsic+json": {
              "type": "string"
            }
          },
          "metadata": {},
          "execution_count": 51
        }
      ]
    },
    {
      "cell_type": "code",
      "source": [
        "'computer' + 'science'"
      ],
      "metadata": {
        "colab": {
          "base_uri": "https://localhost:8080/",
          "height": 35
        },
        "id": "IQ3hE4Hrj2uo",
        "outputId": "178d2343-6d0b-4c14-b638-950d2da84427"
      },
      "execution_count": null,
      "outputs": [
        {
          "output_type": "execute_result",
          "data": {
            "text/plain": [
              "'computerscience'"
            ],
            "application/vnd.google.colaboratory.intrinsic+json": {
              "type": "string"
            }
          },
          "metadata": {},
          "execution_count": 54
        }
      ]
    },
    {
      "cell_type": "code",
      "source": [
        "\"ho\"*3"
      ],
      "metadata": {
        "colab": {
          "base_uri": "https://localhost:8080/",
          "height": 35
        },
        "id": "vKH0MbGinrgB",
        "outputId": "a4ad3b61-2473-4005-d900-deec319a1afe"
      },
      "execution_count": null,
      "outputs": [
        {
          "output_type": "execute_result",
          "data": {
            "text/plain": [
              "'hohoho'"
            ],
            "application/vnd.google.colaboratory.intrinsic+json": {
              "type": "string"
            }
          },
          "metadata": {},
          "execution_count": 56
        }
      ]
    },
    {
      "cell_type": "code",
      "source": [
        " max(\"AZ\", \"C\", \"BD\", \"BT\")"
      ],
      "metadata": {
        "colab": {
          "base_uri": "https://localhost:8080/",
          "height": 35
        },
        "id": "A4Vv9UPNj2xT",
        "outputId": "94667347-7f7e-4b51-a09b-e8a163589b03"
      },
      "execution_count": null,
      "outputs": [
        {
          "output_type": "execute_result",
          "data": {
            "text/plain": [
              "'C'"
            ],
            "application/vnd.google.colaboratory.intrinsic+json": {
              "type": "string"
            }
          },
          "metadata": {},
          "execution_count": 57
        }
      ]
    },
    {
      "cell_type": "code",
      "source": [
        "message=\"hello sita\""
      ],
      "metadata": {
        "id": "sEJicyglsisO"
      },
      "execution_count": null,
      "outputs": []
    },
    {
      "cell_type": "code",
      "source": [
        "message[0:5]"
      ],
      "metadata": {
        "colab": {
          "base_uri": "https://localhost:8080/",
          "height": 35
        },
        "id": "AkcQnt_hsi3F",
        "outputId": "9c635cc2-2945-458c-9072-62d77b0ad94a"
      },
      "execution_count": null,
      "outputs": [
        {
          "output_type": "execute_result",
          "data": {
            "text/plain": [
              "'hello'"
            ],
            "application/vnd.google.colaboratory.intrinsic+json": {
              "type": "string"
            }
          },
          "metadata": {},
          "execution_count": 59
        }
      ]
    },
    {
      "cell_type": "code",
      "source": [
        "def count_matching_characters(str1, str2):\n",
        "    # Initialize a counter for matching characters\n",
        "    matching_count = 0\n",
        "\n",
        "    # Ensure both strings are of the same length\n",
        "    if len(str1) != len(str2):\n",
        "        raise ValueError(\"Input strings must have the same length\")\n",
        "\n",
        "    # Iterate through each character pair in the strings\n",
        "    for char1, char2 in zip(str1, str2):\n",
        "        # Check if the characters match\n",
        "        if char1 == char2:\n",
        "            # Increment the matching count\n",
        "            matching_count += 1\n",
        "\n",
        "    # Return the final count of matching characters\n",
        "    return matching_count\n",
        "\n",
        "# Example usage\n",
        "string1 = \"hello\"\n",
        "string2 = \"hallo\"\n",
        "\n",
        "result = count_matching_characters(string1, string2)\n",
        "\n",
        "# Output the result\n",
        "print(f\"Number of matching characters: {result}\")\n"
      ],
      "metadata": {
        "colab": {
          "base_uri": "https://localhost:8080/"
        },
        "id": "idUBefJJsi7G",
        "outputId": "bec82810-aa2e-4cd9-f926-d1a3f4fba99a"
      },
      "execution_count": null,
      "outputs": [
        {
          "output_type": "stream",
          "name": "stdout",
          "text": [
            "Number of matching characters: 4\n"
          ]
        }
      ]
    },
    {
      "cell_type": "code",
      "source": [
        "#matching characters of a string\n",
        "def matching(str1,str2):\n",
        "  temp1=str1.lower()\n",
        "  temp2=str2.lower()\n",
        "  count=0\n",
        "  for char1 in temp1:\n",
        "    for char2 in temp2:\n",
        "      if char1==char2:\n",
        "        count+=1\n",
        "      return count"
      ],
      "metadata": {
        "id": "iNJs448iJgxL"
      },
      "execution_count": null,
      "outputs": []
    },
    {
      "cell_type": "code",
      "source": [
        "name1=\"omkar\"\n",
        "name2=\"SAHIL\"\n",
        "matching(name1,name2)"
      ],
      "metadata": {
        "colab": {
          "base_uri": "https://localhost:8080/"
        },
        "id": "AOXF8GQNKGqO",
        "outputId": "73438fe4-247f-403b-e328-c1b786251c7d"
      },
      "execution_count": null,
      "outputs": [
        {
          "output_type": "execute_result",
          "data": {
            "text/plain": [
              "0"
            ]
          },
          "metadata": {},
          "execution_count": 65
        }
      ]
    },
    {
      "cell_type": "code",
      "source": [
        "#counting the number of common characters\n",
        "def ncommon(str1,str2):\n",
        "  temp1=str1.lower()\n",
        "  temp2=str2.lower()\n",
        "  count=0\n",
        "  for i in range(len(temp1)):\n",
        "    char1=temp1[i]"
      ],
      "metadata": {
        "id": "3Hwhgw0ZOgqr"
      },
      "execution_count": null,
      "outputs": []
    },
    {
      "cell_type": "code",
      "source": [
        "#reversing a string:-\n",
        "original_string = \"Hello, World!\"\n",
        "reversed_string = ''\n",
        "for char in original_string:\n",
        "    reversed_string = char + reversed_string\n",
        "print(reversed_string)\n"
      ],
      "metadata": {
        "colab": {
          "base_uri": "https://localhost:8080/"
        },
        "id": "zuZI1TeKPdUV",
        "outputId": "5321b3ff-005d-4563-8ff4-90a4db77fb2d"
      },
      "execution_count": null,
      "outputs": [
        {
          "output_type": "stream",
          "name": "stdout",
          "text": [
            "!dlroW ,olleH\n"
          ]
        }
      ]
    },
    {
      "cell_type": "code",
      "source": [
        "#list\n",
        "subjects=[\"maths\",\"english\"]"
      ],
      "metadata": {
        "id": "mah7avw_Sy1V"
      },
      "execution_count": null,
      "outputs": []
    },
    {
      "cell_type": "code",
      "source": [
        "#recurssion"
      ],
      "metadata": {
        "id": "fs6Q9rUYSy_G"
      },
      "execution_count": null,
      "outputs": []
    },
    {
      "cell_type": "code",
      "source": [
        "#factorial\n",
        "def factorial(n):\n",
        "  if n==0 or n==1:\n",
        "    return 1\n",
        "  else:\n",
        "    return n*factorial(n-1)"
      ],
      "metadata": {
        "id": "XHN-Zq5xSzHg"
      },
      "execution_count": null,
      "outputs": []
    },
    {
      "cell_type": "code",
      "source": [
        "factorial(6)"
      ],
      "metadata": {
        "colab": {
          "base_uri": "https://localhost:8080/"
        },
        "id": "k-i-_LebtYvQ",
        "outputId": "0233a3ca-e082-4834-a7db-e1967a1f5e93"
      },
      "execution_count": null,
      "outputs": [
        {
          "output_type": "execute_result",
          "data": {
            "text/plain": [
              "720"
            ]
          },
          "metadata": {},
          "execution_count": 2
        }
      ]
    },
    {
      "cell_type": "code",
      "source": [
        "def factorial(n):\n",
        "  if n==0 or n==1:\n",
        "    return 1\n",
        "  else:\n",
        "    return n*factorial(n-1)"
      ],
      "metadata": {
        "id": "eDSytSltuGSF"
      },
      "execution_count": null,
      "outputs": []
    },
    {
      "cell_type": "code",
      "source": [
        "factorial(5)"
      ],
      "metadata": {
        "colab": {
          "base_uri": "https://localhost:8080/"
        },
        "id": "HsbzGZGpudQO",
        "outputId": "5e6319a5-9612-4aa6-90f2-013c038bef3d"
      },
      "execution_count": null,
      "outputs": [
        {
          "output_type": "execute_result",
          "data": {
            "text/plain": [
              "120"
            ]
          },
          "metadata": {},
          "execution_count": 10
        }
      ]
    },
    {
      "cell_type": "code",
      "source": [
        "#taking user input\n",
        "def main():\n",
        "  n=int(input(\"enter\"))\n",
        "  result=factorial(n)\n",
        "  print(result)\n",
        "  if __name__==\"__main__\":\n",
        "    main()"
      ],
      "metadata": {
        "id": "i7hePrXRuyX4"
      },
      "execution_count": null,
      "outputs": []
    },
    {
      "cell_type": "code",
      "source": [
        "#sum of n natural numbers\n",
        "def summ(n):\n",
        "  if n==1:\n",
        "    return 1\n",
        "  else:\n",
        "    return n+summ(n-1)\n",
        "#user input\n",
        "def main():\n",
        "  n=int(input(\"enter\"))\n",
        "  result=summ(n)\n",
        "  print(result)\n",
        "if __name__==\"__main__\":\n",
        "  main()"
      ],
      "metadata": {
        "colab": {
          "base_uri": "https://localhost:8080/"
        },
        "id": "qGQPf5_2vImv",
        "outputId": "80d3918a-6ebb-402d-9de0-e9b025e73819"
      },
      "execution_count": null,
      "outputs": [
        {
          "output_type": "stream",
          "name": "stdout",
          "text": [
            "enter3\n",
            "6\n"
          ]
        }
      ]
    },
    {
      "cell_type": "code",
      "source": [
        "#reversing a number using recurssion\n",
        "def reverse_number(n):\n",
        "    if n < 10:\n",
        "        return n\n",
        "    else:\n",
        "        return int(str(n % 10) + str(reverse_number(n // 10)))\n",
        "\n",
        "# Get user input\n",
        "user_input = int(input(\"Enter a number to reverse: \"))\n",
        "\n",
        "# Calculate and display the reversed number\n",
        "result = reverse_number(user_input)\n",
        "print(f\"The reversed number of {user_input} is: {result}\")\n"
      ],
      "metadata": {
        "colab": {
          "base_uri": "https://localhost:8080/"
        },
        "id": "w6AtQgZo0SEc",
        "outputId": "b1325d8c-3497-4390-f30b-13a5536545a1"
      },
      "execution_count": null,
      "outputs": [
        {
          "output_type": "stream",
          "name": "stdout",
          "text": [
            "Enter a number to reverse: 4\n",
            "The reversed number of 4 is: 4\n"
          ]
        }
      ]
    },
    {
      "cell_type": "code",
      "source": [
        "#gcd of given numbers x & y\n",
        "#gcd of 2 numbers is same as gcd of smaller number and larger number when divided by smaller number\n",
        "def gcd(x,y):\n",
        "  if y==0:\n",
        "    return x\n",
        "  else\n",
        "  return gcd(y,x%y)\n"
      ],
      "metadata": {
        "id": "Jqan4ECl3IGR"
      },
      "execution_count": null,
      "outputs": []
    },
    {
      "cell_type": "code",
      "source": [
        "#reversing a string\n",
        "def reverse(str1):\n",
        "  reversestr=\"\"\n",
        "  for i in len(str1):\n",
        "    reversestr=str1[i]+reversestr\n",
        "  return reversestr"
      ],
      "metadata": {
        "id": "YM05l3QNYtYC"
      },
      "execution_count": null,
      "outputs": []
    },
    {
      "cell_type": "code",
      "source": [
        "def ispalindrome(word):\n",
        "  return word==word[::-1]\n",
        ""
      ],
      "metadata": {
        "id": "9patC-DoYtiX"
      },
      "execution_count": 5,
      "outputs": []
    },
    {
      "cell_type": "code",
      "source": [
        "n=input(\"enter input\")\n",
        "result=ispalindrome(n)\n",
        "print(result)"
      ],
      "metadata": {
        "id": "nG1I0us_YtlI",
        "colab": {
          "base_uri": "https://localhost:8080/"
        },
        "outputId": "6dea8bb5-e11c-4cba-c9da-f6580532d87f"
      },
      "execution_count": 6,
      "outputs": [
        {
          "output_type": "stream",
          "name": "stdout",
          "text": [
            "enter inputbae\n",
            "False\n"
          ]
        }
      ]
    },
    {
      "cell_type": "code",
      "source": [],
      "metadata": {
        "id": "Xg-hHev2Ytn2"
      },
      "execution_count": null,
      "outputs": []
    }
  ]
}